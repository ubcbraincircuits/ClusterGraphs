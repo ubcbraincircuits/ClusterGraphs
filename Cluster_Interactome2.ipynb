{
 "cells": [
  {
   "cell_type": "code",
   "execution_count": 40,
   "metadata": {},
   "outputs": [],
   "source": [
    "from graphviz import Digraph, Graph"
   ]
  },
  {
   "cell_type": "code",
   "execution_count": 11,
   "metadata": {},
   "outputs": [
    {
     "name": "stdout",
     "output_type": "stream",
     "text": [
      "// The Round Table\n",
      "digraph {\n",
      "\tA [label=\"King Arthur\"]\n",
      "\tB [label=\"Sir Bedevere the Wise\"]\n",
      "\tL [label=\"Sir Lancelot the Brave\"]\n",
      "\tA -> B\n",
      "\tA -> L\n",
      "\tB -> L [constraint=false]\n",
      "}\n"
     ]
    },
    {
     "data": {
      "text/plain": [
       "'test-output/round-table.gv.pdf'"
      ]
     },
     "execution_count": 11,
     "metadata": {},
     "output_type": "execute_result"
    }
   ],
   "source": [
    "dot = Digraph(comment='The Round Table')\n",
    "dot  #doctest: +ELLIPSIS\n",
    "dot.node('A', 'King Arthur')\n",
    "dot.node('B', 'Sir Bedevere the Wise')\n",
    "dot.node('L', 'Sir Lancelot the Brave')\n",
    "dot.edges(['AB', 'AL'])\n",
    "dot.edge('B', 'L', constraint='false')\n",
    "print(dot.source)  # doctest: +NORMALIZE_WHITESPACE\n",
    "dot.render('test-output/round-table.gv', view=True)  # doctest: +SKIP"
   ]
  },
  {
   "cell_type": "code",
   "execution_count": 12,
   "metadata": {},
   "outputs": [],
   "source": []
  },
  {
   "cell_type": "code",
   "execution_count": 19,
   "metadata": {},
   "outputs": [
    {
     "name": "stdout",
     "output_type": "stream",
     "text": [
      "// Dynamic Brain Circuits Cluster\n",
      "digraph {\n",
      "\tT [label=Murphy]\n",
      "\tA [label=Craig]\n",
      "\tB [label=MacVicar]\n",
      "\tT -> A\n",
      "\tT -> B\n",
      "\tA -> T\n",
      "\tB -> T\n",
      "\tA -> B [constraint=false]\n",
      "}\n"
     ]
    },
    {
     "data": {
      "text/plain": [
       "'test-output/cluster.gv.pdf'"
      ]
     },
     "execution_count": 19,
     "metadata": {},
     "output_type": "execute_result"
    }
   ],
   "source": [
    "dot = Digraph(comment='Dynamic Brain Circuits Cluster')\n",
    "dot  #doctest: +ELLIPSIS\n",
    "dot.node('T', 'Murphy')\n",
    "dot.node('A', 'Craig')\n",
    "dot.node('B', 'MacVicar')\n",
    "dot.edges(['TA', 'TB', 'AT','BT'])\n",
    "dot.edge('A', 'B', constraint='false')\n",
    "print(dot.source)  # doctest: +NORMALIZE_WHITESPACE\n",
    "dot.render('test-output/cluster_small.gv', view=True)  # doctest: +SKIP"
   ]
  },
  {
   "cell_type": "code",
   "execution_count": 37,
   "metadata": {},
   "outputs": [
    {
     "name": "stdout",
     "output_type": "stream",
     "text": [
      "// CFI IF 2020\n",
      "digraph {\n",
      "\tT [label=Murphy]\n",
      "\tA [label=Craig]\n",
      "\tB [label=MacVicar]\n",
      "\tJ [label=Seamans]\n",
      "\tk [label=Cembrowski]\n",
      "\tK [label=Haas]\n",
      "\tL [label=Raymond]\n",
      "\ti [label=Galea]\n",
      "\tC [label=Wellingtion]\n",
      "\ta [label=Winstanely]\n",
      "\tS [label=Bamji]\n",
      "\tn [label=\"Cierna-Vogel\"]\n",
      "\tM [label=Farrer]\n",
      "\tt [label=Floresco]\n",
      "\to [label=Philips]\n",
      "\ts [label=Snyder]\n",
      "\tW [label=Song]\n",
      "\tV [label=Sossi]\n",
      "\te [label=Snutch]\n",
      "\tl [label=Tetzlaff]\n",
      "\tY [label=Wang]\n",
      "\tT -> A\n",
      "\tT -> B\n",
      "\tT -> L\n",
      "\tT -> Y\n",
      "\tT -> l\n",
      "\tA -> T\n",
      "\tA -> Y\n",
      "\tB -> T\n",
      "\tB -> e\n",
      "\tB -> Y\n",
      "\tJ -> o\n",
      "\tK -> S\n",
      "\tL -> T\n",
      "\tL -> M\n",
      "\ti -> t\n",
      "\ti -> C\n",
      "\tC -> l\n",
      "\tC -> i\n",
      "\tC -> a\n",
      "\ta -> t\n",
      "\ta -> o\n",
      "\ta -> C\n",
      "\tS -> B\n",
      "\tS -> o\n",
      "\tS -> Y\n",
      "\tM -> V\n",
      "\tt -> o\n",
      "\tt -> i\n",
      "\tt -> a\n",
      "\tW -> Y\n",
      "\te -> B\n",
      "\tl -> C\n",
      "\tY -> A\n",
      "\tY -> B\n",
      "\tY -> M\n",
      "}\n"
     ]
    },
    {
     "data": {
      "text/plain": [
       "'test-output/if2020.gv.pdf'"
      ]
     },
     "execution_count": 37,
     "metadata": {},
     "output_type": "execute_result"
    }
   ],
   "source": [
    "dot = Digraph(comment='CFI IF 2020')\n",
    "dot  #doctest: +ELLIPSIS\n",
    "#team leaders\n",
    "dot.node('T', 'Murphy')\n",
    "dot.node('A', 'Craig')\n",
    "dot.node('B', 'MacVicar')\n",
    "dot.node('J', 'Seamans')\n",
    "#members\n",
    "dot.node('k','Cembrowski')#Mark\n",
    "dot.node('K','Haas')\n",
    "dot.node('L','Raymond')\n",
    "dot.node('i','Galea')#Liisa\n",
    "dot.node('C','Wellingtion')\n",
    "dot.node('a','Winstanely')#Catharine\n",
    "#users\n",
    "dot.node('S','Bamji')\n",
    "dot.node('n','Cierna-Vogel')#Annie\n",
    "dot.node('M','Farrer')\n",
    "dot.node('t','Floresco')#Stan\n",
    "dot.node('o','Philips')#Tony\n",
    "dot.node('s','Snyder')#Jason\n",
    "dot.node('W','Song')\n",
    "dot.node('V','Sossi')\n",
    "dot.node('e','Snutch')#Terry\n",
    "dot.node('l','Tetzlaff')#Wolfram\n",
    "dot.node('Y','Wang')\n",
    "#Murphy connections\n",
    "dot.edges(['TA', 'TB','TL','TY','Tl'])\n",
    "#Craig connections\n",
    "dot.edges(['AT','AY'])\n",
    "#MacVicar Connections\n",
    "dot.edges(['BT','Be','BY'])\n",
    "#Seamans Connections\n",
    "dot.edges(['Jo'])\n",
    "#Cembrowski connections\n",
    "#New faculty\n",
    "\n",
    "#Haas connections\n",
    "dot.edges(['KS'])\n",
    "#Raymond Connections\n",
    "dot.edges(['LT','LM'])\n",
    "#Galea Connections\n",
    "dot.edges(['it','iC'])\n",
    "#Wellington Connections\n",
    "dot.edges(['Cl','Ci','Ca'])\n",
    "#Winstanely Connections\n",
    "dot.edges(['at','ao','aC'])\n",
    "#Bamji Connections\n",
    "dot.edges(['SB','So','SY'])\n",
    "#Cierna-Vogel\n",
    "#\n",
    "#Farrer Connections\n",
    "dot.edges(['MV'])\n",
    "#Floresco Connections\n",
    "dot.edges(['to','ti','ta'])\n",
    "#Snyder connections\n",
    "#none found\n",
    "#song connections\n",
    "dot.edges(['WY'])\n",
    "#Snutch\n",
    "dot.edges(['eB',])\n",
    "#Tetzlaff\n",
    "dot.edges(['lC'])\n",
    "#Wang\n",
    "dot.edges(['YA','YB','YM'])\n",
    "#dot.edge('A', 'B', constraint='false')\n",
    "print(dot.source)  # doctest: +NORMALIZE_WHITESPACE\n",
    "dot.render('test-output/if2020.gv', view=True)  # doctest: +SKIP"
   ]
  },
  {
   "cell_type": "code",
   "execution_count": 65,
   "metadata": {},
   "outputs": [
    {
     "name": "stdout",
     "output_type": "stream",
     "text": [
      "// CFI IF 2020\n",
      "graph {\n",
      "\tnode [shape=ellipse]\n",
      "\tT [label=Murphy]\n",
      "\tA [label=Craig]\n",
      "\tB [label=MacVicar]\n",
      "\tJ [label=Seamans]\n",
      "\tK [label=Haas]\n",
      "\tL [label=Raymond]\n",
      "\ti [label=Galea]\n",
      "\tC [label=Wellingtion]\n",
      "\ta [label=Winstanely]\n",
      "\tS [label=Bamji]\n",
      "\tM [label=Farrer]\n",
      "\tt [label=Floresco]\n",
      "\to [label=Philips]\n",
      "\tW [label=Song]\n",
      "\tV [label=Sossi]\n",
      "\te [label=Snutch]\n",
      "\tl [label=Tetzlaff]\n",
      "\tY [label=Wang]\n",
      "\tnode [shape=rectangle]\n",
      "\tk [label=Cembrowski]\n",
      "\tn [label=\"Cierna-Vogel\"]\n",
      "\ts [label=Snyder]\n",
      "\tT -- Y\n",
      "\tT -- l\n",
      "\tA -- T\n",
      "\tB -- T\n",
      "\tJ -- o\n",
      "\tk -- n\n",
      "\tk -- Y\n",
      "\tk -- C\n",
      "\tk -- s\n",
      "\tK -- S\n",
      "\tL -- T\n",
      "\tL -- M\n",
      "\ti -- C\n",
      "\tC -- a\n",
      "\ta -- o\n",
      "\tS -- B\n",
      "\tS -- o\n",
      "\tS -- Y\n",
      "\tn -- B\n",
      "\tn -- W\n",
      "\tn -- l\n",
      "\tM -- V\n",
      "\tt -- o\n",
      "\tt -- i\n",
      "\tt -- a\n",
      "\ts -- t\n",
      "\tW -- Y\n",
      "\te -- B\n",
      "\tl -- C\n",
      "\tY -- A\n",
      "\tY -- B\n",
      "\tY -- M\n",
      "}\n"
     ]
    },
    {
     "data": {
      "text/plain": [
       "'test-output/if2020.gv.pdf'"
      ]
     },
     "execution_count": 65,
     "metadata": {},
     "output_type": "execute_result"
    }
   ],
   "source": [
    "dot = Graph(comment='CFI IF 2020')\n",
    "#dot  #doctest: +ELLIPSIS\n",
    "#team leaders\n",
    "\n",
    "dot.attr('node',shape='ellipse')\n",
    "\n",
    "dot.node('T', 'Murphy')\n",
    "dot.node('A', 'Craig')\n",
    "dot.node('B', 'MacVicar')\n",
    "dot.node('J', 'Seamans')\n",
    "#members\n",
    "\n",
    "dot.node('K','Haas')\n",
    "dot.node('L','Raymond')\n",
    "dot.node('i','Galea')#Liisa\n",
    "dot.node('C','Wellingtion')\n",
    "dot.node('a','Winstanely')#Catharine\n",
    "#users\n",
    "dot.node('S','Bamji')\n",
    "\n",
    "dot.node('M','Farrer')\n",
    "dot.node('t','Floresco')#Stan\n",
    "dot.node('o','Philips')#Tony\n",
    "\n",
    "dot.node('W','Song')\n",
    "dot.node('V','Sossi')\n",
    "dot.node('e','Snutch')#Terry\n",
    "dot.node('l','Tetzlaff')#Wolfram\n",
    "dot.node('Y','Wang')\n",
    "\n",
    "dot.attr('node',shape='rectangle')\n",
    "dot.node('k','Cembrowski')#Mark\n",
    "dot.node('n','Cierna-Vogel')#Annie\n",
    "dot.node('s','Snyder')#Jason\n",
    "\n",
    "#Murphy connections\n",
    "dot.edges(['TY','Tl'])#dot.edges(['TA', 'TB','TL','TY','Tl'])\n",
    "#Craig connections\n",
    "dot.edges(['AT'])#dot.edges(['AT','AY'])\n",
    "#MacVicar Connections\n",
    "dot.edges(['BT'])#dot.edges(['BT','Be','BY'])\n",
    "#Seamans Connections\n",
    "dot.edges(['Jo'])\n",
    "#Cembrowski connections\n",
    "dot.edges(['kn','kY','kC','ks'])\n",
    "\n",
    "#Haas connections\n",
    "dot.edges(['KS'])\n",
    "#Raymond Connections\n",
    "dot.edges(['LT','LM'])\n",
    "#Galea Connections\n",
    "dot.edges(['iC'])#dot.edges(['it','iC'])\n",
    "#Wellington Connections\n",
    "dot.edges(['Ca'])#dot.edges(['Cl','Ci','Ca'])\n",
    "#Winstanely Connections\n",
    "dot.edges(['ao'])#dot.edges(['at','ao','aC'])\n",
    "#Bamji Connections\n",
    "dot.edges(['SB','So','SY'])\n",
    "#Cierna-Vogel\n",
    "dot.edges(['nB','nW','nl'])\n",
    "#Farrer Connections\n",
    "dot.edges(['MV'])\n",
    "#Floresco Connections\n",
    "dot.edges(['to','ti','ta'])\n",
    "#Snyder connections\n",
    "dot.edges(['st'])\n",
    "#song connections\n",
    "dot.edges(['WY'])\n",
    "#Snutch\n",
    "dot.edges(['eB',])\n",
    "#Tetzlaff\n",
    "dot.edges(['lC'])\n",
    "#Wang\n",
    "dot.edges(['YA','YB','YM'])\n",
    "#dot.edge('A', 'B', constraint='false')\n",
    "print(dot.source)  # doctest: +NORMALIZE_WHITESPACE\n",
    "dot.render('test-output/if2020.gv', view=True)  # doctest: +SKIP"
   ]
  },
  {
   "cell_type": "code",
   "execution_count": 7,
   "metadata": {},
   "outputs": [],
   "source": []
  },
  {
   "cell_type": "code",
   "execution_count": 8,
   "metadata": {},
   "outputs": [],
   "source": []
  },
  {
   "cell_type": "code",
   "execution_count": 9,
   "metadata": {},
   "outputs": [
    {
     "name": "stdout",
     "output_type": "stream",
     "text": [
      "// The Round Table\n",
      "digraph {\n",
      "\tA [label=\"King Arthur\"]\n",
      "\tB [label=\"Sir Bedevere the Wise\"]\n",
      "\tL [label=\"Sir Lancelot the Brave\"]\n",
      "\tA -> B\n",
      "\tA -> L\n",
      "\tB -> L [constraint=false]\n",
      "}\n"
     ]
    }
   ],
   "source": []
  },
  {
   "cell_type": "code",
   "execution_count": 10,
   "metadata": {},
   "outputs": [
    {
     "data": {
      "text/plain": [
       "'test-output/round-table.gv.pdf'"
      ]
     },
     "execution_count": 10,
     "metadata": {},
     "output_type": "execute_result"
    }
   ],
   "source": []
  },
  {
   "cell_type": "code",
   "execution_count": null,
   "metadata": {},
   "outputs": [],
   "source": []
  }
 ],
 "metadata": {
  "kernelspec": {
   "display_name": "Python 3",
   "language": "python",
   "name": "python3"
  },
  "language_info": {
   "codemirror_mode": {
    "name": "ipython",
    "version": 3
   },
   "file_extension": ".py",
   "mimetype": "text/x-python",
   "name": "python",
   "nbconvert_exporter": "python",
   "pygments_lexer": "ipython3",
   "version": "3.7.1"
  }
 },
 "nbformat": 4,
 "nbformat_minor": 2
}
